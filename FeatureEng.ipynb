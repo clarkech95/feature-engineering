{
 "cells": [
  {
   "cell_type": "markdown",
   "metadata": {},
   "source": [
    "### Student Name:"
   ]
  },
  {
   "cell_type": "code",
   "execution_count": null,
   "metadata": {},
   "outputs": [],
   "source": [
    "#TODO: import the modules\n",
    "import pandas as pd\n",
    "import matplotlib.pyplot as plt\n",
    "from sklearn.feature_selection import RFE, SelectKBest\n",
    "from sklearn import svm\n",
    "from sklearn.preprocessing import MinMaxScaler"
   ]
  },
  {
   "cell_type": "markdown",
   "metadata": {},
   "source": [
    "### Step 1 - Load the data"
   ]
  },
  {
   "cell_type": "code",
   "execution_count": null,
   "metadata": {},
   "outputs": [],
   "source": [
    "sample_size = 1000\n",
    "file_path   = '' #TODO: provide the file path or URL to the dataset `trip_data.csv`\n",
    "\n",
    "df = pd.read_csv(file_path)\n",
    "df = df.groupby('tip').apply(lambda x: x.sample(sample_size))\n",
    "df = df.sample(frac=1) #shuffle the dataframe rows\n",
    "\n",
    "#visualize the sample data, which contain 1000 observations from each class\n",
    "df.tip.value_counts().sort_index().plot.bar()"
   ]
  },
  {
   "cell_type": "markdown",
   "metadata": {},
   "source": [
    "### Step 2: Create a new feature called `trip_duration`"
   ]
  },
  {
   "cell_type": "code",
   "execution_count": null,
   "metadata": {},
   "outputs": [],
   "source": [
    "#Create a new feature called trip_duration and add it to the dataframe\n",
    "\n",
    "#TODO: Calculate the difference between `lpep_pickup_datetime` and `lpep_dropoff_datetime` in seconds (this should be a positive number).\n",
    "\n",
    "df['trip_duration'] = #TODO: store the elapsed time (from above) into the dataframe.\n",
    "\n",
    "#Remove the `lpep_pickup_datetime` and `lpep_dropoff_datetime` from the dataframe.\n",
    "del df['lpep_dropoff_datetime']\n",
    "del df['lpep_pickup_datetime']"
   ]
  },
  {
   "cell_type": "markdown",
   "metadata": {},
   "source": [
    "### Step 3: Encode the labels in the `tip` field.\n",
    "Use the [LabelEncoder](https://scikit-learn.org/stable/modules/generated/sklearn.preprocessing.LabelEncoder.html) in scikit learn."
   ]
  },
  {
   "cell_type": "code",
   "execution_count": null,
   "metadata": {},
   "outputs": [],
   "source": [
    "#Encode the class labels\n",
    "\n",
    "#TODO: Initialize the `LabelEncoder`\n",
    "\n",
    "#TODO: Fit the `LabelEncoder` to the class labels in the 'tip' field\n",
    "\n",
    "#TODO: Use the `LabelEncoder` to encode class labels in the 'tip' field.\n",
    "\n",
    "#TODO: Display the encoded labels\n"
   ]
  },
  {
   "cell_type": "code",
   "execution_count": null,
   "metadata": {},
   "outputs": [],
   "source": [
    "#assign the input features and the class labels to variables 'X' and 'y' respectively.\n",
    "\n",
    "X = #TODO: assign the input features (in the dataframe) to a variable 'X'.\n",
    "y = #TODO: assign the encoded labels to a variale 'y'."
   ]
  },
  {
   "cell_type": "markdown",
   "metadata": {},
   "source": [
    "### Step 4: Feature selection"
   ]
  },
  {
   "cell_type": "markdown",
   "metadata": {},
   "source": [
    "#### Filter Methods"
   ]
  },
  {
   "cell_type": "markdown",
   "metadata": {},
   "source": [
    "[Univariate feature selection](https://scikit-learn.org/stable/modules/feature_selection.html#univariate-feature-selection): use [SelectKBest](https://scikit-learn.org/stable/modules/generated/sklearn.feature_selection.SelectKBest.html#sklearn.feature_selection.SelectKBest) to select the seven highest scoring features (i.e. k=7)."
   ]
  },
  {
   "cell_type": "code",
   "execution_count": null,
   "metadata": {},
   "outputs": [],
   "source": [
    "#Univariate feature selection using SelectKBest.\n",
    "\n",
    "k_best   = SelectKBest(score_func= , #TODO choose either chi2 or f_classif\n",
    "                     k= #TODO: enter the value for k\n",
    "                    )\n",
    "\n",
    "k_best   = k_best.fit(X, y)\n",
    "\n",
    "features = k_best.transform(X)\n",
    "\n",
    "#TODO: display the names of the selected features below\n"
   ]
  },
  {
   "cell_type": "markdown",
   "metadata": {},
   "source": [
    "#### Wrapper methods"
   ]
  },
  {
   "cell_type": "markdown",
   "metadata": {},
   "source": [
    "Identify the top seven features using [Support Vector Machines (SVM)](https://scikit-learn.org/stable/modules/svm.html) and [Recursive feature elimination (RFE)](https://scikit-learn.org/stable/modules/generated/sklearn.feature_selection.RFE.html#sklearn.feature_selection.RFE).\n",
    "\n",
    "Here is an example on using [SVMs for classification](https://scikit-learn.org/stable/modules/svm.html#classification) and [RFE](https://scikit-learn.org/stable/auto_examples/feature_selection/plot_rfe_digits.html#sphx-glr-auto-examples-feature-selection-plot-rfe-digits-py) in scikit-learn."
   ]
  },
  {
   "cell_type": "code",
   "execution_count": null,
   "metadata": {},
   "outputs": [],
   "source": [
    "\n",
    "svm_estimator = svm.SVC(kernel='linear') #initialize the SVM estimator\n",
    "\n",
    "#TODO: Recursive Feature Elimination\n",
    "rfe = RFE(estimator= , #TODO: provide the SVM estimator \n",
    "          verbose=1, \n",
    "          n_features_to_select= #TODO: enter the number of required features\n",
    "         )\n",
    "\n",
    "rfe.fit(X, y) #Note: this may take a few minutes to complete\n",
    "\n",
    "#TODO: display the names of the selected features below\n"
   ]
  },
  {
   "cell_type": "markdown",
   "metadata": {},
   "source": [
    "#### The results\n",
    "Compare and contrast the selected features from the filter and wrapper methods. "
   ]
  },
  {
   "cell_type": "code",
   "execution_count": null,
   "metadata": {},
   "outputs": [],
   "source": [
    "#TODO: Compare and contrast the results"
   ]
  },
  {
   "cell_type": "markdown",
   "metadata": {},
   "source": [
    "### Step 5: Standardize the input features\n",
    "Use the [MinMaxScaler](https://scikit-learn.org/stable/modules/generated/sklearn.preprocessing.MinMaxScaler.html#sklearn.preprocessing.MinMaxScaler) in [scikit-learn's preprocessing module](https://scikit-learn.org/stable/modules/preprocessing.html) to scale the input features between 0.1 and 0.9 (i.e. the min and max respectively). "
   ]
  },
  {
   "cell_type": "code",
   "execution_count": null,
   "metadata": {},
   "outputs": [],
   "source": [
    "#Standardize the input features\n",
    "scaler = MinMaxScaler(feature_range= #TODO: provide the min and max values for the features\n",
    "                     )\n",
    "\n",
    "X = scaler.fit_transform(X)"
   ]
  },
  {
   "cell_type": "code",
   "execution_count": null,
   "metadata": {},
   "outputs": [],
   "source": [
    "#TODO: Perform the SelectKBest and Recursive Feature Elimination steps using the standardized data\n",
    "\n",
    "#TODO: display the names of the selected features for each method"
   ]
  },
  {
   "cell_type": "markdown",
   "metadata": {},
   "source": [
    "#### The results\n",
    "Compare and contrast the scaled features from the filter and wrapper methods. "
   ]
  },
  {
   "cell_type": "code",
   "execution_count": null,
   "metadata": {},
   "outputs": [],
   "source": [
    "#TODO: Compare and contrast the results"
   ]
  },
  {
   "cell_type": "markdown",
   "metadata": {},
   "source": [
    "### Step 6: Explain the effect of standardizing the data"
   ]
  },
  {
   "cell_type": "code",
   "execution_count": null,
   "metadata": {},
   "outputs": [],
   "source": [
    "#TODO: Explain the effect of standardizing the data"
   ]
  },
  {
   "cell_type": "markdown",
   "metadata": {},
   "source": [
    "### Step 7:  Observations about the selected features\n",
    "Based on your observations about the features, did the algorithm identify meaningful features and did they align with your previous intuition about the data (Recall the data wrangling exercise)? Did it identify any features that you would not have otherwise considered."
   ]
  },
  {
   "cell_type": "code",
   "execution_count": null,
   "metadata": {},
   "outputs": [],
   "source": [
    "#TODO: Explain your observations."
   ]
  }
 ],
 "metadata": {
  "kernelspec": {
   "display_name": "Python 3",
   "language": "python",
   "name": "python3"
  },
  "language_info": {
   "codemirror_mode": {
    "name": "ipython",
    "version": 3
   },
   "file_extension": ".py",
   "mimetype": "text/x-python",
   "name": "python",
   "nbconvert_exporter": "python",
   "pygments_lexer": "ipython3",
   "version": "3.7.4"
  }
 },
 "nbformat": 4,
 "nbformat_minor": 2
}
